{
 "cells": [
  {
   "cell_type": "code",
   "execution_count": 1,
   "id": "726f8d83",
   "metadata": {},
   "outputs": [],
   "source": [
    "import tensorflow as tf\n",
    "from tensorflow import keras\n",
    "from keras.datasets import fashion_mnist\n",
    "from keras.models import Sequential\n",
    "from keras.layers import Dense, Dropout, Flatten\n",
    "from keras.layers import Conv2D, MaxPooling2D\n",
    "from keras import backend as K"
   ]
  },
  {
   "cell_type": "code",
   "execution_count": 2,
   "id": "05c12acf",
   "metadata": {},
   "outputs": [],
   "source": [
    "num_classes = 10\n",
    "batch_size = 64\n",
    "epochs = 24\n",
    "img_rows, img_cols = 28,28"
   ]
  },
  {
   "cell_type": "code",
   "execution_count": 3,
   "id": "169d1e9d",
   "metadata": {},
   "outputs": [],
   "source": [
    "(x_train, y_train), (x_test, y_test) = fashion_mnist.load_data()"
   ]
  },
  {
   "cell_type": "code",
   "execution_count": 4,
   "id": "070e132c",
   "metadata": {},
   "outputs": [
    {
     "name": "stdout",
     "output_type": "stream",
     "text": [
      "(60000, 28, 28)\n",
      "(10000, 28, 28)\n",
      "60000\n",
      "[9 0 0 ... 3 0 5]\n"
     ]
    }
   ],
   "source": [
    "print(x_train.shape)\n",
    "print(x_test.shape)\n",
    "print(len(y_train))\n",
    "print(y_train)"
   ]
  },
  {
   "cell_type": "code",
   "execution_count": 5,
   "id": "13b70ea8",
   "metadata": {},
   "outputs": [
    {
     "data": {
      "text/plain": [
       "60000"
      ]
     },
     "execution_count": 5,
     "metadata": {},
     "output_type": "execute_result"
    }
   ],
   "source": [
    "x_train.shape[0]"
   ]
  },
  {
   "cell_type": "code",
   "execution_count": 6,
   "id": "3d83796d",
   "metadata": {},
   "outputs": [],
   "source": [
    "x_train = x_train.reshape(x_train.shape[0], img_rows, img_cols, 1)\n",
    "x_test = x_test.reshape(x_test.shape[0], img_rows, img_cols, 1)\n",
    "input_shape = (img_rows, img_cols, 1)"
   ]
  },
  {
   "cell_type": "code",
   "execution_count": 7,
   "id": "44d8c2c6",
   "metadata": {},
   "outputs": [
    {
     "data": {
      "text/plain": [
       "(28, 28, 1)"
      ]
     },
     "execution_count": 7,
     "metadata": {},
     "output_type": "execute_result"
    }
   ],
   "source": [
    "input_shape"
   ]
  },
  {
   "cell_type": "code",
   "execution_count": 8,
   "id": "ca93dcf0",
   "metadata": {},
   "outputs": [
    {
     "data": {
      "text/plain": [
       "(60000, 28, 28, 1)"
      ]
     },
     "execution_count": 8,
     "metadata": {},
     "output_type": "execute_result"
    }
   ],
   "source": [
    "x_train.shape"
   ]
  },
  {
   "cell_type": "code",
   "execution_count": 9,
   "id": "3f72a920",
   "metadata": {},
   "outputs": [
    {
     "name": "stdout",
     "output_type": "stream",
     "text": [
      "x_train shape:  (60000, 28, 28, 1)\n",
      "x_test shape:  (10000, 28, 28, 1)\n",
      "[9 0 0]\n"
     ]
    }
   ],
   "source": [
    "x_train = x_train.astype('float32')\n",
    "x_test = x_test.astype('float32')\n",
    "x_train/= 255.\n",
    "x_test/=255.\n",
    "print('x_train shape: ', x_train.shape)\n",
    "print('x_test shape: ', x_test.shape)\n",
    "print(y_train[0:3])"
   ]
  },
  {
   "cell_type": "code",
   "execution_count": 10,
   "id": "c84e7e41",
   "metadata": {},
   "outputs": [
    {
     "name": "stdout",
     "output_type": "stream",
     "text": [
      "[[0. 0. 0. 0. 0. 0. 0. 0. 0. 1.]\n",
      " [1. 0. 0. 0. 0. 0. 0. 0. 0. 0.]]\n"
     ]
    }
   ],
   "source": [
    "y_train = tf.keras.utils.to_categorical(y_train, num_classes)\n",
    "y_test = tf.keras.utils.to_categorical(y_test, num_classes)\n",
    "print(y_train[0:2])"
   ]
  },
  {
   "cell_type": "code",
   "execution_count": 11,
   "id": "676510ea",
   "metadata": {},
   "outputs": [],
   "source": [
    "model = Sequential()"
   ]
  },
  {
   "cell_type": "code",
   "execution_count": 12,
   "id": "278e3d93",
   "metadata": {},
   "outputs": [],
   "source": [
    "model.add(Conv2D(32, kernel_size=(8,8), \n",
    "                 activation='relu', \n",
    "                 input_shape = input_shape))\n",
    "model.add(MaxPooling2D(pool_size=(2,2)))\n",
    "model.add(Conv2D(32, kernel_size=(3, 3), activation='relu'))\n",
    "model.add(MaxPooling2D(pool_size=(2,2)))\n",
    "model.add(Flatten())\n",
    "model.add(Dense(128, activation='relu'))\n",
    "model.add(Dense(64, activation='relu'))\n",
    "# model.add(Dropout(0.5))\n",
    "model.add(Dense(num_classes, activation='softmax'))"
   ]
  },
  {
   "cell_type": "code",
   "execution_count": 13,
   "id": "fa2a8d3d",
   "metadata": {},
   "outputs": [
    {
     "name": "stdout",
     "output_type": "stream",
     "text": [
      "Epoch 1/24\n",
      "938/938 [==============================] - 9s 9ms/step - loss: 0.5802 - accuracy: 0.7872 - val_loss: 0.4269 - val_accuracy: 0.8498\n",
      "Epoch 2/24\n",
      "938/938 [==============================] - 9s 9ms/step - loss: 0.3763 - accuracy: 0.8644 - val_loss: 0.3568 - val_accuracy: 0.8701\n",
      "Epoch 3/24\n",
      "938/938 [==============================] - 9s 10ms/step - loss: 0.3259 - accuracy: 0.8802 - val_loss: 0.3420 - val_accuracy: 0.8733\n",
      "Epoch 4/24\n",
      "938/938 [==============================] - 8s 9ms/step - loss: 0.2979 - accuracy: 0.8899 - val_loss: 0.3115 - val_accuracy: 0.8868\n",
      "Epoch 5/24\n",
      "938/938 [==============================] - 8s 9ms/step - loss: 0.2729 - accuracy: 0.8998 - val_loss: 0.3039 - val_accuracy: 0.8875\n",
      "Epoch 6/24\n",
      "938/938 [==============================] - 9s 10ms/step - loss: 0.2581 - accuracy: 0.9039 - val_loss: 0.2977 - val_accuracy: 0.8896\n",
      "Epoch 7/24\n",
      "938/938 [==============================] - 9s 10ms/step - loss: 0.2417 - accuracy: 0.9103 - val_loss: 0.3103 - val_accuracy: 0.8870\n",
      "Epoch 8/24\n",
      "938/938 [==============================] - 9s 9ms/step - loss: 0.2293 - accuracy: 0.9137 - val_loss: 0.2934 - val_accuracy: 0.8952\n",
      "Epoch 9/24\n",
      "938/938 [==============================] - 9s 9ms/step - loss: 0.2141 - accuracy: 0.9194 - val_loss: 0.2914 - val_accuracy: 0.8955\n",
      "Epoch 10/24\n",
      "938/938 [==============================] - 9s 10ms/step - loss: 0.2050 - accuracy: 0.9231 - val_loss: 0.2862 - val_accuracy: 0.8984\n",
      "Epoch 11/24\n",
      "938/938 [==============================] - 8s 9ms/step - loss: 0.1904 - accuracy: 0.9279 - val_loss: 0.2835 - val_accuracy: 0.8992\n",
      "Epoch 12/24\n",
      "938/938 [==============================] - 9s 9ms/step - loss: 0.1804 - accuracy: 0.9320 - val_loss: 0.2950 - val_accuracy: 0.9041\n",
      "Epoch 13/24\n",
      "938/938 [==============================] - 9s 9ms/step - loss: 0.1717 - accuracy: 0.9344 - val_loss: 0.3007 - val_accuracy: 0.8992\n",
      "Epoch 14/24\n",
      "938/938 [==============================] - 9s 9ms/step - loss: 0.1609 - accuracy: 0.9394 - val_loss: 0.2912 - val_accuracy: 0.9030\n",
      "Epoch 15/24\n",
      "938/938 [==============================] - 9s 10ms/step - loss: 0.1560 - accuracy: 0.9398 - val_loss: 0.3044 - val_accuracy: 0.8993\n",
      "Epoch 16/24\n",
      "938/938 [==============================] - 9s 9ms/step - loss: 0.1469 - accuracy: 0.9439 - val_loss: 0.3163 - val_accuracy: 0.9001\n",
      "Epoch 17/24\n",
      "938/938 [==============================] - 9s 9ms/step - loss: 0.1379 - accuracy: 0.9471 - val_loss: 0.3128 - val_accuracy: 0.9028\n",
      "Epoch 18/24\n",
      "938/938 [==============================] - 9s 9ms/step - loss: 0.1310 - accuracy: 0.9499 - val_loss: 0.3392 - val_accuracy: 0.8979\n",
      "Epoch 19/24\n",
      "938/938 [==============================] - 9s 9ms/step - loss: 0.1224 - accuracy: 0.9523 - val_loss: 0.3286 - val_accuracy: 0.9083\n",
      "Epoch 20/24\n",
      "938/938 [==============================] - 9s 10ms/step - loss: 0.1191 - accuracy: 0.9538 - val_loss: 0.3342 - val_accuracy: 0.9069\n",
      "Epoch 21/24\n",
      "938/938 [==============================] - 9s 10ms/step - loss: 0.1103 - accuracy: 0.9568 - val_loss: 0.3548 - val_accuracy: 0.9020\n",
      "Epoch 22/24\n",
      "938/938 [==============================] - 9s 10ms/step - loss: 0.1114 - accuracy: 0.9571 - val_loss: 0.3596 - val_accuracy: 0.9031\n",
      "Epoch 23/24\n",
      "938/938 [==============================] - 9s 10ms/step - loss: 0.1011 - accuracy: 0.9610 - val_loss: 0.3667 - val_accuracy: 0.9042\n",
      "Epoch 24/24\n",
      "938/938 [==============================] - 9s 10ms/step - loss: 0.0984 - accuracy: 0.9616 - val_loss: 0.3793 - val_accuracy: 0.9032\n"
     ]
    }
   ],
   "source": [
    "    model.compile(loss = keras.losses.categorical_crossentropy,\n",
    "                 optimizer = keras.optimizers.Adam(),\n",
    "                 metrics=['accuracy'])\n",
    "    hist = model.fit(x_train, y_train,\n",
    "                    batch_size = 64,\n",
    "                    epochs = 24,\n",
    "                    verbose = 1,\n",
    "                    validation_data = (x_test, y_test))"
   ]
  },
  {
   "cell_type": "code",
   "execution_count": 14,
   "id": "a63d68e1",
   "metadata": {},
   "outputs": [
    {
     "data": {
      "text/plain": [
       "{'loss': [0.580199658870697,\n",
       "  0.37626034021377563,\n",
       "  0.32590973377227783,\n",
       "  0.2979056239128113,\n",
       "  0.2728697955608368,\n",
       "  0.2580925226211548,\n",
       "  0.24167400598526,\n",
       "  0.22927157580852509,\n",
       "  0.21411480009555817,\n",
       "  0.20503723621368408,\n",
       "  0.1903698444366455,\n",
       "  0.18041592836380005,\n",
       "  0.17172019183635712,\n",
       "  0.16092337667942047,\n",
       "  0.1560155600309372,\n",
       "  0.14690466225147247,\n",
       "  0.13788554072380066,\n",
       "  0.13099774718284607,\n",
       "  0.12239614874124527,\n",
       "  0.11909632384777069,\n",
       "  0.1102643832564354,\n",
       "  0.11144491285085678,\n",
       "  0.10107283294200897,\n",
       "  0.09844781458377838],\n",
       " 'accuracy': [0.7871666550636292,\n",
       "  0.8643666505813599,\n",
       "  0.880216658115387,\n",
       "  0.8899166584014893,\n",
       "  0.8998333215713501,\n",
       "  0.9039166569709778,\n",
       "  0.910266637802124,\n",
       "  0.9137499928474426,\n",
       "  0.9194333553314209,\n",
       "  0.9230999946594238,\n",
       "  0.9278833270072937,\n",
       "  0.9320499897003174,\n",
       "  0.9344333410263062,\n",
       "  0.9393500089645386,\n",
       "  0.9397500157356262,\n",
       "  0.9438999891281128,\n",
       "  0.9471166729927063,\n",
       "  0.9498833417892456,\n",
       "  0.9523333311080933,\n",
       "  0.9537500143051147,\n",
       "  0.9568166732788086,\n",
       "  0.9570666551589966,\n",
       "  0.9609666466712952,\n",
       "  0.9615833163261414],\n",
       " 'val_loss': [0.42685526609420776,\n",
       "  0.35675370693206787,\n",
       "  0.34204185009002686,\n",
       "  0.31152665615081787,\n",
       "  0.3038575053215027,\n",
       "  0.2976652681827545,\n",
       "  0.3103395700454712,\n",
       "  0.29340577125549316,\n",
       "  0.2913682162761688,\n",
       "  0.28615427017211914,\n",
       "  0.28351178765296936,\n",
       "  0.2950499355792999,\n",
       "  0.3007001578807831,\n",
       "  0.29115307331085205,\n",
       "  0.3044014871120453,\n",
       "  0.3163304626941681,\n",
       "  0.3128467798233032,\n",
       "  0.3392198383808136,\n",
       "  0.32862627506256104,\n",
       "  0.33419108390808105,\n",
       "  0.3547688126564026,\n",
       "  0.35963255167007446,\n",
       "  0.3666999042034149,\n",
       "  0.37931886315345764],\n",
       " 'val_accuracy': [0.8497999906539917,\n",
       "  0.8701000213623047,\n",
       "  0.8733000159263611,\n",
       "  0.8867999911308289,\n",
       "  0.887499988079071,\n",
       "  0.8895999789237976,\n",
       "  0.8870000243186951,\n",
       "  0.8952000141143799,\n",
       "  0.8955000042915344,\n",
       "  0.8984000086784363,\n",
       "  0.8992000222206116,\n",
       "  0.9041000008583069,\n",
       "  0.8992000222206116,\n",
       "  0.902999997138977,\n",
       "  0.8992999792098999,\n",
       "  0.9000999927520752,\n",
       "  0.9028000235557556,\n",
       "  0.8978999853134155,\n",
       "  0.90829998254776,\n",
       "  0.9068999886512756,\n",
       "  0.9020000100135803,\n",
       "  0.9031000137329102,\n",
       "  0.90420001745224,\n",
       "  0.9031999707221985]}"
      ]
     },
     "execution_count": 14,
     "metadata": {},
     "output_type": "execute_result"
    }
   ],
   "source": [
    "hist.history"
   ]
  },
  {
   "cell_type": "code",
   "execution_count": 15,
   "id": "c6f5eeae",
   "metadata": {},
   "outputs": [
    {
     "name": "stdout",
     "output_type": "stream",
     "text": [
      "Test loss:  0.37931907176971436\n",
      "Test accuracy:  0.9031999707221985\n"
     ]
    }
   ],
   "source": [
    "score = model.evaluate(x_test, y_test, verbose = 0)\n",
    "print('Test loss: ', score[0])\n",
    "print('Test accuracy: ',score[1])"
   ]
  },
  {
   "cell_type": "code",
   "execution_count": 16,
   "id": "04a1e419",
   "metadata": {},
   "outputs": [
    {
     "data": {
      "image/png": "[encoded data removed]",
      "text/plain": [
       "<Figure size 640x480 with 1 Axes>"
      ]
     },
     "metadata": {},
     "output_type": "display_data"
    }
   ],
   "source": [
    "import numpy as np\n",
    "import matplotlib.pyplot as plt\n",
    "%matplotlib inline\n",
    "epoch_list = list(range(1, len(hist.history['accuracy'])+1))\n",
    "plt.plot(epoch_list, hist.history['accuracy'], epoch_list, hist.history['val_accuracy'])\n",
    "plt.legend(('Training Accuracy', 'Validation Accuracy'))\n",
    "plt.show()"
   ]
  },
  {
   "cell_type": "code",
   "execution_count": 17,
   "id": "ca6d3c5e",
   "metadata": {},
   "outputs": [
    {
     "name": "stdout",
     "output_type": "stream",
     "text": [
      "Model: \"sequential\"\n",
      "_________________________________________________________________\n",
      " Layer (type)                Output Shape              Param #   \n",
      "=================================================================\n",
      " conv2d (Conv2D)             (None, 21, 21, 32)        2080      \n",
      "                                                                 \n",
      " max_pooling2d (MaxPooling2D  (None, 10, 10, 32)       0         \n",
      " )                                                               \n",
      "                                                                 \n",
      " conv2d_1 (Conv2D)           (None, 8, 8, 32)          9248      \n",
      "                                                                 \n",
      " max_pooling2d_1 (MaxPooling  (None, 4, 4, 32)         0         \n",
      " 2D)                                                             \n",
      "                                                                 \n",
      " flatten (Flatten)           (None, 512)               0         \n",
      "                                                                 \n",
      " dense (Dense)               (None, 128)               65664     \n",
      "                                                                 \n",
      " dense_1 (Dense)             (None, 64)                8256      \n",
      "                                                                 \n",
      " dense_2 (Dense)             (None, 10)                650       \n",
      "                                                                 \n",
      "=================================================================\n",
      "Total params: 85,898\n",
      "Trainable params: 85,898\n",
      "Non-trainable params: 0\n",
      "_________________________________________________________________\n"
     ]
    }
   ],
   "source": [
    "model.summary()"
   ]
  }
 ],
 "metadata": {
  "kernelspec": {
   "display_name": "Python 3 (ipykernel)",
   "language": "python",
   "name": "python3"
  },
  "language_info": {
   "codemirror_mode": {
    "name": "ipython",
    "version": 3
   },
   "file_extension": ".py",
   "mimetype": "text/x-python",
   "name": "python",
   "nbconvert_exporter": "python",
   "pygments_lexer": "ipython3",
   "version": "3.11.1"
  }
 },
 "nbformat": 4,
 "nbformat_minor": 5
}
